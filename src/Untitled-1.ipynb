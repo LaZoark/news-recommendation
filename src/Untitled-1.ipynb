{
 "cells": [
  {
   "cell_type": "code",
   "execution_count": 2,
   "metadata": {},
   "outputs": [],
   "source": [
    "import json\n"
   ]
  },
  {
   "cell_type": "code",
   "execution_count": 24,
   "metadata": {},
   "outputs": [
    {
     "data": {
      "text/plain": [
       "[{'Label': 'Prince Philip, Duke of Edinburgh',\n",
       "  'Type': 'P',\n",
       "  'WikidataId': 'Q80976',\n",
       "  'Confidence': 1.0,\n",
       "  'OccurrenceOffsets': [48],\n",
       "  'SurfaceForms': ['Prince Philip']},\n",
       " {'Label': 'Charles, Prince of Wales',\n",
       "  'Type': 'P',\n",
       "  'WikidataId': 'Q43274',\n",
       "  'Confidence': 1.0,\n",
       "  'OccurrenceOffsets': [28],\n",
       "  'SurfaceForms': ['Prince Charles']},\n",
       " {'Label': 'Elizabeth II',\n",
       "  'Type': 'P',\n",
       "  'WikidataId': 'Q9682',\n",
       "  'Confidence': 0.97,\n",
       "  'OccurrenceOffsets': [11],\n",
       "  'SurfaceForms': ['Queen Elizabeth']}]"
      ]
     },
     "execution_count": 24,
     "metadata": {},
     "output_type": "execute_result"
    }
   ],
   "source": [
    "title_entities = '\"[{\"\"Label\"\": \"\"Prince Philip, Duke of Edinburgh\"\", \"\"Type\"\": \"\"P\"\", \"\"WikidataId\"\": \"\"Q80976\"\", \"\"Confidence\"\": 1.0, \"\"OccurrenceOffsets\"\": [48], \"\"SurfaceForms\"\": [\"\"Prince Philip\"\"]}, {\"\"Label\"\": \"\"Charles, Prince of Wales\"\", \"\"Type\"\": \"\"P\"\", \"\"WikidataId\"\": \"\"Q43274\"\", \"\"Confidence\"\": 1.0, \"\"OccurrenceOffsets\"\": [28], \"\"SurfaceForms\"\": [\"\"Prince Charles\"\"]}, {\"\"Label\"\": \"\"Elizabeth II\"\", \"\"Type\"\": \"\"P\"\", \"\"WikidataId\"\": \"\"Q9682\"\", \"\"Confidence\"\": 0.97, \"\"OccurrenceOffsets\"\": [11], \"\"SurfaceForms\"\": [\"\"Queen Elizabeth\"\"]}]\"'\n",
    "# title_entities = '[{\"\"Label\"\": \"\"Prince Philip, Duke of Edinburgh\"\", \"\"Type\"\": \"\"P\"\", \"\"WikidataId\"\": \"\"Q80976\"\", \"\"Confidence\"\": 1.0, \"\"OccurrenceOffsets\"\": [48], \"\"SurfaceForms\"\": [\"\"Prince Philip\"\"]}, {\"\"Label\"\": \"\"Charles, Prince of Wales\"\", \"\"Type\"\": \"\"P\"\", \"\"WikidataId\"\": \"\"Q43274\"\", \"\"Confidence\"\": 1.0, \"\"OccurrenceOffsets\"\": [28], \"\"SurfaceForms\"\": [\"\"Prince Charles\"\"]}, {\"\"Label\"\": \"\"Elizabeth II\"\", \"\"Type\"\": \"\"P\"\", \"\"WikidataId\"\": \"\"Q9682\"\", \"\"Confidence\"\": 0.97, \"\"OccurrenceOffsets\"\": [11], \"\"SurfaceForms\"\": [\"\"Queen Elizabeth\"\"]}]'\n",
    "title_entities = title_entities.replace('\"\"', '\"') \n",
    "title_entities = title_entities[1:-1] # remove the [\"] at the begining and the end\n",
    "json.loads(title_entities)"
   ]
  },
  {
   "cell_type": "code",
   "execution_count": 5,
   "metadata": {},
   "outputs": [
    {
     "data": {
      "text/plain": [
       "'\"[{\"Label\": \"Prince Philip, Duke of Edinburgh\", \"Type\": \"P\", \"WikidataId\": \"Q80976\", \"Confidence\": 1.0, \"OccurrenceOffsets\": [48], \"SurfaceForms\": [\"Prince Philip\"]}, {\"Label\": \"Charles, Prince of Wales\", \"Type\": \"P\", \"WikidataId\": \"Q43274\", \"Confidence\": 1.0, \"OccurrenceOffsets\": [28], \"SurfaceForms\": [\"Prince Charles\"]}, {\"Label\": \"Elizabeth II\", \"Type\": \"P\", \"WikidataId\": \"Q9682\", \"Confidence\": 0.97, \"OccurrenceOffsets\": [11], \"SurfaceForms\": [\"Queen Elizabeth\"]}]\"'"
      ]
     },
     "execution_count": 5,
     "metadata": {},
     "output_type": "execute_result"
    }
   ],
   "source": [
    "title_entities"
   ]
  }
 ],
 "metadata": {
  "kernelspec": {
   "display_name": "lab",
   "language": "python",
   "name": "python3"
  },
  "language_info": {
   "codemirror_mode": {
    "name": "ipython",
    "version": 3
   },
   "file_extension": ".py",
   "mimetype": "text/x-python",
   "name": "python",
   "nbconvert_exporter": "python",
   "pygments_lexer": "ipython3",
   "version": "3.8.10"
  },
  "orig_nbformat": 4
 },
 "nbformat": 4,
 "nbformat_minor": 2
}
